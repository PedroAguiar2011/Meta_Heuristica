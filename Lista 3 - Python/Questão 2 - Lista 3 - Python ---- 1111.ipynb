{
 "cells": [
  {
   "cell_type": "code",
   "execution_count": null,
   "metadata": {},
   "outputs": [],
   "source": [
    "for x in range (1,101,1):\n",
    "    print (x)\n",
    "    if (x==100):\n",
    "        x=1\n",
    "        while (x<101):\n",
    "            print(x)\n",
    "            x+=1\n",
    "            if (x==101):\n",
    "                x=1\n",
    "                while (x<101):\n",
    "                    print(x)\n",
    "                    x+=1"
   ]
  }
 ],
 "metadata": {
  "language_info": {
   "name": "python"
  },
  "orig_nbformat": 4
 },
 "nbformat": 4,
 "nbformat_minor": 2
}
